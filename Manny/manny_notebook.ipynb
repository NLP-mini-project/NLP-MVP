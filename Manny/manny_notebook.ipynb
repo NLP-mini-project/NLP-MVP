{
 "cells": [
  {
   "cell_type": "markdown",
   "id": "38baab48",
   "metadata": {},
   "source": [
    "# Instructions"
   ]
  },
  {
   "cell_type": "markdown",
   "id": "ba2b10f1",
   "metadata": {},
   "source": [
    "### Acquire:\n",
    "- Decide on a list of GitHub repositories to scrape. You can use the links provided in the project guidance, or you can generate a list programmatically using web scraping techniques.\n",
    "- Use a script to scrape the README files for each repository and store the data in a CSV or JSON file. Make sure to include the programming language of each repository as a label.\n",
    "- Document where your data comes from, including the date of acquisition."
   ]
  },
  {
   "cell_type": "markdown",
   "id": "c8451cab",
   "metadata": {},
   "source": [
    "### Prepare:\n",
    "- Load the data into a Pandas DataFrame.\n",
    "- Explore and clean the data as needed. This might include removing duplicates, handling missing data, and removing stop words.\n",
    "- Split the data into training and testing sets."
   ]
  },
  {
   "cell_type": "markdown",
   "id": "d1e6a174",
   "metadata": {},
   "source": [
    "### Explore:\n",
    "- Explore and visualize the natural language data that you have acquired. For example, you could:\n",
    "- Count the most common words in READMEs.\n",
    "- Visualize the distribution of README lengths by programming language.\n",
    "- Explore the number of unique words used by different programming languages.\n",
    "- Identify any words that uniquely identify a programming language."
   ]
  },
  {
   "cell_type": "markdown",
   "id": "0133f4b3",
   "metadata": {},
   "source": [
    "### Model:\n",
    "- Transform the text of the README files into a form that can be used in a machine learning model. This might involve using techniques like bag-of-words, TF-IDF, or word embeddings.\n",
    "- Try fitting several different models, such as logistic regression, decision trees, or random forests.\n",
    "- Evaluate the performance of each model using metrics like accuracy, precision, and recall.\n",
    "- Build a function that takes in the text of a README file and tries to predict the programming language.\n",
    "- Consider narrowing down the number of unique values in your target variable if you have many different programming languages. For example, you could focus on the top 3 languages and label everything else as \"Other\".\n"
   ]
  },
  {
   "cell_type": "markdown",
   "id": "ad5d3fee",
   "metadata": {},
   "source": [
    "### Deliverables:\n",
    "- Create a well-documented Jupyter notebook that contains your analysis.\n",
    "- Create a README file that describes your project and includes instructions on how to run it.\n",
    "- Create 2-5 Google slides suitable for a general audience that summarize your findings in exploration and the results of your modeling. Include well-labeled visualizations in your slides.\n",
    "- Link your Google slide deck in the README of your repository.\n",
    "- I hope this helps you get started with your project! Good luck!"
   ]
  },
  {
   "cell_type": "code",
   "execution_count": 1,
   "id": "17821dff",
   "metadata": {},
   "outputs": [],
   "source": [
    "import unicodedata\n",
    "import re\n",
    "import json\n",
    "import os\n",
    "from requests import get\n",
    "from bs4 import BeautifulSoup\n",
    "\n",
    "import nltk\n",
    "from nltk.tokenize.toktok import ToktokTokenizer\n",
    "from nltk.corpus import stopwords\n",
    "\n",
    "import pandas as pd\n",
    "import numpy as np\n",
    "\n",
    "import prepare as p\n",
    "import explore as e"
   ]
  },
  {
   "cell_type": "markdown",
   "id": "a7781c1d",
   "metadata": {},
   "source": [
    "# Acquire"
   ]
  },
  {
   "cell_type": "code",
   "execution_count": 2,
   "id": "2cc420ad",
   "metadata": {},
   "outputs": [],
   "source": [
    "# read JSON output from Acquire script\n",
    "# create Pandas DataFrame\n",
    "df=pd.read_json('data.json')"
   ]
  },
  {
   "cell_type": "code",
   "execution_count": 3,
   "id": "042125e2",
   "metadata": {},
   "outputs": [
    {
     "data": {
      "text/plain": [
       "JavaScript    7\n",
       "Python        6\n",
       "Rust          4\n",
       "TypeScript    3\n",
       "C             2\n",
       "Shell         1\n",
       "Go            1\n",
       "C#            1\n",
       "QML           1\n",
       "Name: language, dtype: int64"
      ]
     },
     "execution_count": 3,
     "metadata": {},
     "output_type": "execute_result"
    }
   ],
   "source": [
    "# My repos language breakdowns\n",
    "df['language'].value_counts()"
   ]
  },
  {
   "cell_type": "markdown",
   "id": "b9016c87",
   "metadata": {},
   "source": [
    "# Prepare"
   ]
  },
  {
   "cell_type": "code",
   "execution_count": 4,
   "id": "11587f5f",
   "metadata": {},
   "outputs": [],
   "source": [
    "# Some repos are topic specific so this is a list of additional stopwords\n",
    "# to reduce noise\n",
    "stopwords = ['covid','covid-19',\"'\"]"
   ]
  },
  {
   "cell_type": "code",
   "execution_count": 5,
   "id": "26e25da3",
   "metadata": {},
   "outputs": [],
   "source": [
    "# languages we are focusing on?\n",
    "languages = ['Python', 'JavaScript', 'Jupyter Notebook', 'HTML', 'R']"
   ]
  },
  {
   "cell_type": "code",
   "execution_count": 6,
   "id": "661a531b",
   "metadata": {},
   "outputs": [],
   "source": [
    "# add new prepared columns to dataframe from JSON\n",
    "prepared_df = p.prep_repo_data(df,'readme_contents', extra_words=stopwords)"
   ]
  },
  {
   "cell_type": "markdown",
   "id": "90b84449",
   "metadata": {},
   "source": [
    "# Explore"
   ]
  },
  {
   "cell_type": "code",
   "execution_count": 7,
   "id": "884f44dd",
   "metadata": {},
   "outputs": [],
   "source": [
    "# split data\n",
    "train, validate, test = e.split_data(prepared_df) "
   ]
  },
  {
   "cell_type": "code",
   "execution_count": 8,
   "id": "ca85546c",
   "metadata": {},
   "outputs": [
    {
     "data": {
      "text/html": [
       "<div>\n",
       "<style scoped>\n",
       "    .dataframe tbody tr th:only-of-type {\n",
       "        vertical-align: middle;\n",
       "    }\n",
       "\n",
       "    .dataframe tbody tr th {\n",
       "        vertical-align: top;\n",
       "    }\n",
       "\n",
       "    .dataframe thead th {\n",
       "        text-align: right;\n",
       "    }\n",
       "</style>\n",
       "<table border=\"1\" class=\"dataframe\">\n",
       "  <thead>\n",
       "    <tr style=\"text-align: right;\">\n",
       "      <th></th>\n",
       "      <th>count</th>\n",
       "      <th>percentage</th>\n",
       "    </tr>\n",
       "  </thead>\n",
       "  <tbody>\n",
       "    <tr>\n",
       "      <th>JavaScript</th>\n",
       "      <td>4</td>\n",
       "      <td>0.333333</td>\n",
       "    </tr>\n",
       "    <tr>\n",
       "      <th>Python</th>\n",
       "      <td>2</td>\n",
       "      <td>0.166667</td>\n",
       "    </tr>\n",
       "    <tr>\n",
       "      <th>TypeScript</th>\n",
       "      <td>2</td>\n",
       "      <td>0.166667</td>\n",
       "    </tr>\n",
       "    <tr>\n",
       "      <th>C#</th>\n",
       "      <td>1</td>\n",
       "      <td>0.083333</td>\n",
       "    </tr>\n",
       "    <tr>\n",
       "      <th>C</th>\n",
       "      <td>1</td>\n",
       "      <td>0.083333</td>\n",
       "    </tr>\n",
       "    <tr>\n",
       "      <th>Go</th>\n",
       "      <td>1</td>\n",
       "      <td>0.083333</td>\n",
       "    </tr>\n",
       "    <tr>\n",
       "      <th>Rust</th>\n",
       "      <td>1</td>\n",
       "      <td>0.083333</td>\n",
       "    </tr>\n",
       "  </tbody>\n",
       "</table>\n",
       "</div>"
      ],
      "text/plain": [
       "            count  percentage\n",
       "JavaScript      4    0.333333\n",
       "Python          2    0.166667\n",
       "TypeScript      2    0.166667\n",
       "C#              1    0.083333\n",
       "C               1    0.083333\n",
       "Go              1    0.083333\n",
       "Rust            1    0.083333"
      ]
     },
     "execution_count": 8,
     "metadata": {},
     "output_type": "execute_result"
    }
   ],
   "source": [
    "# language breakdown\n",
    "language_totals = pd.concat([train.language.value_counts(),\n",
    "                    train.language.value_counts(normalize=True)], axis=1)\n",
    "language_totals.columns = ['count', 'percentage']\n",
    "language_totals"
   ]
  },
  {
   "cell_type": "code",
   "execution_count": 9,
   "id": "04319281",
   "metadata": {},
   "outputs": [],
   "source": [
    "# subset word Frequency by Language"
   ]
  },
  {
   "cell_type": "code",
   "execution_count": 10,
   "id": "5621d597",
   "metadata": {},
   "outputs": [
    {
     "data": {
      "text/plain": [
       "16    p aligncenter br img altlogo srcmedialogopng b...\n",
       "6     atom build statushttpsdevazurecomgithubatomapi...\n",
       "14    p aligncenterimg srcstaticlogosmallpng altmark...\n",
       "4     nodejs nodejs opensource crossplatform javascr...\n",
       "Name: clean, dtype: object"
      ]
     },
     "execution_count": 10,
     "metadata": {},
     "output_type": "execute_result"
    }
   ],
   "source": [
    "train[train['language'] == 'JavaScript']['clean']"
   ]
  },
  {
   "cell_type": "code",
   "execution_count": 11,
   "id": "acfd743a",
   "metadata": {},
   "outputs": [],
   "source": [
    "# tokenize words return value counts"
   ]
  },
  {
   "cell_type": "code",
   "execution_count": 12,
   "id": "2d6e9935",
   "metadata": {},
   "outputs": [
    {
     "data": {
      "text/html": [
       "<div>\n",
       "<style scoped>\n",
       "    .dataframe tbody tr th:only-of-type {\n",
       "        vertical-align: middle;\n",
       "    }\n",
       "\n",
       "    .dataframe tbody tr th {\n",
       "        vertical-align: top;\n",
       "    }\n",
       "\n",
       "    .dataframe thead th {\n",
       "        text-align: right;\n",
       "    }\n",
       "</style>\n",
       "<table border=\"1\" class=\"dataframe\">\n",
       "  <thead>\n",
       "    <tr style=\"text-align: right;\">\n",
       "      <th></th>\n",
       "      <th>language</th>\n",
       "      <th>repo</th>\n",
       "      <th>original</th>\n",
       "      <th>clean</th>\n",
       "      <th>stemmed</th>\n",
       "      <th>lemmatized</th>\n",
       "    </tr>\n",
       "  </thead>\n",
       "  <tbody>\n",
       "    <tr>\n",
       "      <th>16</th>\n",
       "      <td>JavaScript</td>\n",
       "      <td>GitSquared/edex-ui</td>\n",
       "      <td>&lt;p align=\"center\"&gt;\\n  &lt;br&gt;\\n  &lt;img alt=\"Logo\" ...</td>\n",
       "      <td>p aligncenter br img altlogo srcmedialogopng b...</td>\n",
       "      <td>p aligncent br img altlogo srcmedialogopng brb...</td>\n",
       "      <td>p aligncenter br img altlogo srcmedialogopng b...</td>\n",
       "    </tr>\n",
       "    <tr>\n",
       "      <th>6</th>\n",
       "      <td>JavaScript</td>\n",
       "      <td>atom/atom</td>\n",
       "      <td># Atom\\n\\n[![Build status](https://dev.azure.c...</td>\n",
       "      <td>atom build statushttpsdevazurecomgithubatomapi...</td>\n",
       "      <td>atom build statushttpsdevazurecomgithubatomapi...</td>\n",
       "      <td>atom build statushttpsdevazurecomgithubatomapi...</td>\n",
       "    </tr>\n",
       "    <tr>\n",
       "      <th>14</th>\n",
       "      <td>JavaScript</td>\n",
       "      <td>marktext/marktext</td>\n",
       "      <td>&lt;p align=\"center\"&gt;&lt;img src=\"static/logo-small....</td>\n",
       "      <td>p aligncenterimg srcstaticlogosmallpng altmark...</td>\n",
       "      <td>p aligncenterimg srcstaticlogosmallpng altmark...</td>\n",
       "      <td>p aligncenterimg srcstaticlogosmallpng altmark...</td>\n",
       "    </tr>\n",
       "    <tr>\n",
       "      <th>4</th>\n",
       "      <td>JavaScript</td>\n",
       "      <td>nodejs/node</td>\n",
       "      <td># Node.js\\n\\nNode.js is an open-source, cross-...</td>\n",
       "      <td>nodejs nodejs opensource crossplatform javascr...</td>\n",
       "      <td>nodej nodej opensourc crossplatform javascript...</td>\n",
       "      <td>nodejs nodejs opensource crossplatform javascr...</td>\n",
       "    </tr>\n",
       "  </tbody>\n",
       "</table>\n",
       "</div>"
      ],
      "text/plain": [
       "      language                repo  \\\n",
       "16  JavaScript  GitSquared/edex-ui   \n",
       "6   JavaScript           atom/atom   \n",
       "14  JavaScript   marktext/marktext   \n",
       "4   JavaScript         nodejs/node   \n",
       "\n",
       "                                             original  \\\n",
       "16  <p align=\"center\">\\n  <br>\\n  <img alt=\"Logo\" ...   \n",
       "6   # Atom\\n\\n[![Build status](https://dev.azure.c...   \n",
       "14  <p align=\"center\"><img src=\"static/logo-small....   \n",
       "4   # Node.js\\n\\nNode.js is an open-source, cross-...   \n",
       "\n",
       "                                                clean  \\\n",
       "16  p aligncenter br img altlogo srcmedialogopng b...   \n",
       "6   atom build statushttpsdevazurecomgithubatomapi...   \n",
       "14  p aligncenterimg srcstaticlogosmallpng altmark...   \n",
       "4   nodejs nodejs opensource crossplatform javascr...   \n",
       "\n",
       "                                              stemmed  \\\n",
       "16  p aligncent br img altlogo srcmedialogopng brb...   \n",
       "6   atom build statushttpsdevazurecomgithubatomapi...   \n",
       "14  p aligncenterimg srcstaticlogosmallpng altmark...   \n",
       "4   nodej nodej opensourc crossplatform javascript...   \n",
       "\n",
       "                                           lemmatized  \n",
       "16  p aligncenter br img altlogo srcmedialogopng b...  \n",
       "6   atom build statushttpsdevazurecomgithubatomapi...  \n",
       "14  p aligncenterimg srcstaticlogosmallpng altmark...  \n",
       "4   nodejs nodejs opensource crossplatform javascr...  "
      ]
     },
     "execution_count": 12,
     "metadata": {},
     "output_type": "execute_result"
    }
   ],
   "source": [
    "train[train['language'] == 'JavaScript']"
   ]
  },
  {
   "cell_type": "code",
   "execution_count": 13,
   "id": "37f431c5",
   "metadata": {},
   "outputs": [],
   "source": [
    "def get_wordcounts_for_language(df, column, language):\n",
    "    # filter dataframe to rows with specified language\n",
    "    language_df = df[df['language'] == language]\n",
    "\n",
    "    # create a new series by splitting the text in the specified column into individual words\n",
    "    words_series = language_df[column].str.split(expand=True).stack()\n",
    "\n",
    "    # group the series by word and count the number of occurrences\n",
    "    words_counts = words_series.groupby(words_series).count()\n",
    "    \n",
    "    # sort value counts in descending order\n",
    "    words_counts = words_counts.sort_values(ascending=False) \n",
    "    \n",
    "    return words_counts"
   ]
  },
  {
   "cell_type": "code",
   "execution_count": 36,
   "id": "5b9ff830",
   "metadata": {},
   "outputs": [
    {
     "data": {
      "text/plain": [
       "kivy              13\n",
       "targetblankimg    11\n",
       "python             7\n",
       "email              6\n",
       "license            6\n",
       "dtype: int64"
      ]
     },
     "execution_count": 36,
     "metadata": {},
     "output_type": "execute_result"
    }
   ],
   "source": [
    "words_counts = get_wordcounts_for_language(train, 'lemmatized', 'Python')\n",
    "words_counts[:5]"
   ]
  },
  {
   "cell_type": "code",
   "execution_count": 15,
   "id": "3f0332ce",
   "metadata": {},
   "outputs": [],
   "source": [
    "def get_unique_words_for_language(df, column, language):\n",
    "    # filter dataframe by rows with the specified language\n",
    "    language_df = df[df['language'] == language]\n",
    "\n",
    "    # create a new series by splitting the text in the specified column into individual words\n",
    "    # using Pandas explode method\n",
    "    words_series = language_df[column].str.split(expand=True).stack()\n",
    "\n",
    "    # get a series holding each unique word for the specified language\n",
    "    unique_words_series = pd.Series(words_series.unique()).reset_index(drop=True)\n",
    "\n",
    "    return unique_words_series"
   ]
  },
  {
   "cell_type": "code",
   "execution_count": 16,
   "id": "5cd2392a",
   "metadata": {},
   "outputs": [
    {
     "data": {
      "text/plain": [
       "0                                                   kivy\n",
       "1                                                    img\n",
       "2                                             alignright\n",
       "3                                              height256\n",
       "4      srchttpsrawgithubusercontentcomkivykivymasterk...\n",
       "                             ...                        \n",
       "353                      linuxkernelassetslinuxkernelpng\n",
       "354                                               author\n",
       "355                                               byncsa\n",
       "356                                             creative\n",
       "357        commonshttpcreativecommonsorglicensesbyncsa40\n",
       "Length: 358, dtype: object"
      ]
     },
     "execution_count": 16,
     "metadata": {},
     "output_type": "execute_result"
    }
   ],
   "source": [
    "unique_python_words = get_unique_words_for_language(train,'lemmatized','Python')\n",
    "unique_python_words"
   ]
  },
  {
   "cell_type": "code",
   "execution_count": 17,
   "id": "57e8330e",
   "metadata": {},
   "outputs": [],
   "source": [
    "def get_words_for_language(df, column, language):\n",
    "    # filter dataframe by rows with the specified language\n",
    "    language_df = df[df['language'] == language]\n",
    "\n",
    "    # create a new series by splitting the text in the specified column into individual words\n",
    "    # using Pandas explode method\n",
    "    words_series = language_df[column].str.split(expand=True).stack()\n",
    "    \n",
    "    # reset index to remove double index caused by expand=True\n",
    "    words_series = words_series.reset_index(drop=True)\n",
    "    \n",
    "    return words_series"
   ]
  },
  {
   "cell_type": "code",
   "execution_count": 18,
   "id": "4ae88b0e",
   "metadata": {},
   "outputs": [
    {
     "data": {
      "text/plain": [
       "0                                                   kivy\n",
       "1                                                    img\n",
       "2                                             alignright\n",
       "3                                              height256\n",
       "4      srchttpsrawgithubusercontentcomkivykivymasterk...\n",
       "                             ...                        \n",
       "536                                              license\n",
       "537                                             licensed\n",
       "538                                               byncsa\n",
       "539                                             creative\n",
       "540        commonshttpcreativecommonsorglicensesbyncsa40\n",
       "Length: 541, dtype: object"
      ]
     },
     "execution_count": 18,
     "metadata": {},
     "output_type": "execute_result"
    }
   ],
   "source": [
    "python_words = get_words_for_language(train,'lemmatized','Python')\n",
    "python_words"
   ]
  },
  {
   "cell_type": "code",
   "execution_count": 19,
   "id": "02de4df1",
   "metadata": {},
   "outputs": [
    {
     "data": {
      "text/plain": [
       "JavaScript    4\n",
       "Python        2\n",
       "TypeScript    2\n",
       "C#            1\n",
       "C             1\n",
       "Go            1\n",
       "Rust          1\n",
       "Name: language, dtype: int64"
      ]
     },
     "execution_count": 19,
     "metadata": {},
     "output_type": "execute_result"
    }
   ],
   "source": [
    "train['language'].value_counts()"
   ]
  },
  {
   "cell_type": "code",
   "execution_count": 20,
   "id": "51639513",
   "metadata": {},
   "outputs": [
    {
     "data": {
      "text/plain": [
       "linux        47\n",
       "o            20\n",
       "file         17\n",
       "supported    16\n",
       "boot         16\n",
       "             ..\n",
       "gnewsense     1\n",
       "gnu           1\n",
       "gnulinux      1\n",
       "gobolinux     1\n",
       "zstack        1\n",
       "Length: 625, dtype: int64"
      ]
     },
     "execution_count": 20,
     "metadata": {},
     "output_type": "execute_result"
    }
   ],
   "source": [
    "get_wordcounts_for_language(train,'lemmatized','C')"
   ]
  },
  {
   "cell_type": "code",
   "execution_count": 21,
   "id": "ac824fee",
   "metadata": {},
   "outputs": [
    {
     "data": {
      "text/plain": [
       "7    h1 aligncenter hrefhttpswwwventoynetventoya h1...\n",
       "Name: lemmatized, dtype: object"
      ]
     },
     "execution_count": 21,
     "metadata": {},
     "output_type": "execute_result"
    }
   ],
   "source": [
    "train[train['language'] == 'C']['lemmatized']"
   ]
  },
  {
   "cell_type": "code",
   "execution_count": 22,
   "id": "0e001254",
   "metadata": {},
   "outputs": [],
   "source": [
    "column_name = 'lemmatized'\n",
    "grouped_df = train.groupby('language')\n",
    "for language, group in grouped_df:\n",
    "    # get the value counts for the specified column\n",
    "    word_counts = group[column_name].str.split(expand=True).stack().value_counts()"
   ]
  },
  {
   "cell_type": "code",
   "execution_count": 23,
   "id": "d6e7ec21",
   "metadata": {},
   "outputs": [
    {
     "data": {
      "text/plain": [
       "pandas.core.series.Series"
      ]
     },
     "execution_count": 23,
     "metadata": {},
     "output_type": "execute_result"
    }
   ],
   "source": [
    "word_counts_sorted = word_counts.sort_values(ascending=False)\n",
    "top_words = word_counts_sorted.iloc[:3]\n",
    "type(top_words)"
   ]
  },
  {
   "cell_type": "code",
   "execution_count": 24,
   "id": "c41efa74",
   "metadata": {},
   "outputs": [
    {
     "data": {
      "text/plain": [
       "15    logo powershell welcome powershell github comm...\n",
       "7     h1 aligncenter hrefhttpswwwventoynetventoya h1...\n",
       "26    kivy img alignright height256 srchttpsrawgithu...\n",
       "10    httpsassetsvercelcomimageuploadv1549723846repo...\n",
       "20    linuxinsides bookinprogress linux kernel insid...\n",
       "11    mkcert mkcert simple tool making locallytruste...\n",
       "16    p aligncenter br img altlogo srcmedialogopng b...\n",
       "6     atom build statushttpsdevazurecomgithubatomapi...\n",
       "5     p aligncenter hrefhttpsgithubcomtrimstraythebo...\n",
       "23    p aligncenter img width180 srcpubliclogopng al...\n",
       "18    nativefier example nativefier app macos dockgi...\n",
       "14    p aligncenterimg srcstaticlogosmallpng altmark...\n",
       "4     nodejs nodejs opensource crossplatform javascr...\n",
       "Name: lemmatized, dtype: object"
      ]
     },
     "execution_count": 24,
     "metadata": {},
     "output_type": "execute_result"
    }
   ],
   "source": [
    "train.lemmatized"
   ]
  },
  {
   "cell_type": "code",
   "execution_count": 29,
   "id": "5943a4d4",
   "metadata": {},
   "outputs": [],
   "source": [
    "def get_top_words_by_language(df, column_name, n_top_words):\n",
    "    # group the dataframe by language\n",
    "    grouped_df = df.groupby('language')\n",
    "    \n",
    "    # initiialize an empty dictionary to store the results\n",
    "    results = {}\n",
    "    \n",
    "    # loop over each group\n",
    "    for language, group in grouped_df:\n",
    "        # get the value counts for the specified column\n",
    "        word_counts = group[column_name].str.split(expand=True).stack().value_counts()\n",
    "        # sort the value counts in descending order\n",
    "        word_counts_sorted = word_counts.sort_values(ascending=False)\n",
    "        # get the top n words\n",
    "        top_words = word_counts_sorted.iloc[:n_top_words]\n",
    "        \n",
    "        # add the language and top words to the results dictionary\n",
    "        results[language] = top_words\n",
    "        \n",
    "    # get the value counts for the specified column for the ungrouped dataframe\n",
    "    total_word_counts = df[column_name].str.split(expand=True).stack().value_counts()\n",
    "    # sort the value counts in descending order\n",
    "    total_word_counts_sorted = total_word_counts.sort_values(ascending=False)\n",
    "    # get the top n words\n",
    "    top_total_words = total_word_counts_sorted.iloc[:n_top_words]\n",
    "    \n",
    "    # add the total top words to the results dictionary\n",
    "    results['total'] = top_total_words\n",
    "    \n",
    "    # create a dataframe from the results dictionary\n",
    "    df_results = pd.DataFrame(results)\n",
    "    \n",
    "    # replace NaN values with 0\n",
    "    df_results.fillna(0, inplace=True)\n",
    "    \n",
    "    # sort the columns by the total values\n",
    "    df_results = df_results.sort_values(by='total',ascending=False)[:n_top_words]\n",
    "    \n",
    "    return df_results"
   ]
  },
  {
   "cell_type": "code",
   "execution_count": 34,
   "id": "65f427ee",
   "metadata": {},
   "outputs": [],
   "source": [
    "lemmatized_language_value_counts = get_top_words_by_language(train, 'lemmatized',10)"
   ]
  },
  {
   "cell_type": "code",
   "execution_count": 35,
   "id": "63b8b78c",
   "metadata": {},
   "outputs": [
    {
     "data": {
      "text/html": [
       "<div>\n",
       "<style scoped>\n",
       "    .dataframe tbody tr th:only-of-type {\n",
       "        vertical-align: middle;\n",
       "    }\n",
       "\n",
       "    .dataframe tbody tr th {\n",
       "        vertical-align: top;\n",
       "    }\n",
       "\n",
       "    .dataframe thead th {\n",
       "        text-align: right;\n",
       "    }\n",
       "</style>\n",
       "<table border=\"1\" class=\"dataframe\">\n",
       "  <thead>\n",
       "    <tr style=\"text-align: right;\">\n",
       "      <th></th>\n",
       "      <th>C</th>\n",
       "      <th>C#</th>\n",
       "      <th>Go</th>\n",
       "      <th>JavaScript</th>\n",
       "      <th>Python</th>\n",
       "      <th>Rust</th>\n",
       "      <th>TypeScript</th>\n",
       "      <th>total</th>\n",
       "    </tr>\n",
       "  </thead>\n",
       "  <tbody>\n",
       "    <tr>\n",
       "      <th>nbspnbspsmallorangediamond</th>\n",
       "      <td>0.0</td>\n",
       "      <td>0.0</td>\n",
       "      <td>0.0</td>\n",
       "      <td>0.0</td>\n",
       "      <td>0.0</td>\n",
       "      <td>0.0</td>\n",
       "      <td>0.0</td>\n",
       "      <td>908.0</td>\n",
       "    </tr>\n",
       "    <tr>\n",
       "      <th>bash</th>\n",
       "      <td>0.0</td>\n",
       "      <td>0.0</td>\n",
       "      <td>0.0</td>\n",
       "      <td>0.0</td>\n",
       "      <td>0.0</td>\n",
       "      <td>0.0</td>\n",
       "      <td>0.0</td>\n",
       "      <td>317.0</td>\n",
       "    </tr>\n",
       "    <tr>\n",
       "      <th>p</th>\n",
       "      <td>0.0</td>\n",
       "      <td>0.0</td>\n",
       "      <td>0.0</td>\n",
       "      <td>0.0</td>\n",
       "      <td>0.0</td>\n",
       "      <td>0.0</td>\n",
       "      <td>0.0</td>\n",
       "      <td>273.0</td>\n",
       "    </tr>\n",
       "    <tr>\n",
       "      <th>tool</th>\n",
       "      <td>0.0</td>\n",
       "      <td>0.0</td>\n",
       "      <td>0.0</td>\n",
       "      <td>0.0</td>\n",
       "      <td>0.0</td>\n",
       "      <td>0.0</td>\n",
       "      <td>0.0</td>\n",
       "      <td>175.0</td>\n",
       "    </tr>\n",
       "    <tr>\n",
       "      <th>security</th>\n",
       "      <td>0.0</td>\n",
       "      <td>0.0</td>\n",
       "      <td>0.0</td>\n",
       "      <td>0.0</td>\n",
       "      <td>0.0</td>\n",
       "      <td>0.0</td>\n",
       "      <td>0.0</td>\n",
       "      <td>166.0</td>\n",
       "    </tr>\n",
       "    <tr>\n",
       "      <th>hehim</th>\n",
       "      <td>0.0</td>\n",
       "      <td>0.0</td>\n",
       "      <td>0.0</td>\n",
       "      <td>137.0</td>\n",
       "      <td>0.0</td>\n",
       "      <td>0.0</td>\n",
       "      <td>0.0</td>\n",
       "      <td>137.0</td>\n",
       "    </tr>\n",
       "    <tr>\n",
       "      <th>file</th>\n",
       "      <td>17.0</td>\n",
       "      <td>0.0</td>\n",
       "      <td>10.0</td>\n",
       "      <td>0.0</td>\n",
       "      <td>0.0</td>\n",
       "      <td>0.0</td>\n",
       "      <td>0.0</td>\n",
       "      <td>124.0</td>\n",
       "    </tr>\n",
       "    <tr>\n",
       "      <th>linux</th>\n",
       "      <td>47.0</td>\n",
       "      <td>9.0</td>\n",
       "      <td>0.0</td>\n",
       "      <td>0.0</td>\n",
       "      <td>0.0</td>\n",
       "      <td>0.0</td>\n",
       "      <td>0.0</td>\n",
       "      <td>120.0</td>\n",
       "    </tr>\n",
       "    <tr>\n",
       "      <th>web</th>\n",
       "      <td>0.0</td>\n",
       "      <td>0.0</td>\n",
       "      <td>0.0</td>\n",
       "      <td>0.0</td>\n",
       "      <td>0.0</td>\n",
       "      <td>0.0</td>\n",
       "      <td>0.0</td>\n",
       "      <td>97.0</td>\n",
       "    </tr>\n",
       "    <tr>\n",
       "      <th>blacksmallsquare</th>\n",
       "      <td>0.0</td>\n",
       "      <td>0.0</td>\n",
       "      <td>0.0</td>\n",
       "      <td>0.0</td>\n",
       "      <td>0.0</td>\n",
       "      <td>0.0</td>\n",
       "      <td>0.0</td>\n",
       "      <td>97.0</td>\n",
       "    </tr>\n",
       "  </tbody>\n",
       "</table>\n",
       "</div>"
      ],
      "text/plain": [
       "                               C   C#    Go  JavaScript  Python  Rust  \\\n",
       "nbspnbspsmallorangediamond   0.0  0.0   0.0         0.0     0.0   0.0   \n",
       "bash                         0.0  0.0   0.0         0.0     0.0   0.0   \n",
       "p                            0.0  0.0   0.0         0.0     0.0   0.0   \n",
       "tool                         0.0  0.0   0.0         0.0     0.0   0.0   \n",
       "security                     0.0  0.0   0.0         0.0     0.0   0.0   \n",
       "hehim                        0.0  0.0   0.0       137.0     0.0   0.0   \n",
       "file                        17.0  0.0  10.0         0.0     0.0   0.0   \n",
       "linux                       47.0  9.0   0.0         0.0     0.0   0.0   \n",
       "web                          0.0  0.0   0.0         0.0     0.0   0.0   \n",
       "blacksmallsquare             0.0  0.0   0.0         0.0     0.0   0.0   \n",
       "\n",
       "                            TypeScript  total  \n",
       "nbspnbspsmallorangediamond         0.0  908.0  \n",
       "bash                               0.0  317.0  \n",
       "p                                  0.0  273.0  \n",
       "tool                               0.0  175.0  \n",
       "security                           0.0  166.0  \n",
       "hehim                              0.0  137.0  \n",
       "file                               0.0  124.0  \n",
       "linux                              0.0  120.0  \n",
       "web                                0.0   97.0  \n",
       "blacksmallsquare                   0.0   97.0  "
      ]
     },
     "execution_count": 35,
     "metadata": {},
     "output_type": "execute_result"
    }
   ],
   "source": [
    "lemmatized_language_value_counts"
   ]
  },
  {
   "cell_type": "code",
   "execution_count": 38,
   "id": "6dd3b71e",
   "metadata": {},
   "outputs": [
    {
     "data": {
      "text/html": [
       "<div>\n",
       "<style scoped>\n",
       "    .dataframe tbody tr th:only-of-type {\n",
       "        vertical-align: middle;\n",
       "    }\n",
       "\n",
       "    .dataframe tbody tr th {\n",
       "        vertical-align: top;\n",
       "    }\n",
       "\n",
       "    .dataframe thead th {\n",
       "        text-align: right;\n",
       "    }\n",
       "</style>\n",
       "<table border=\"1\" class=\"dataframe\">\n",
       "  <thead>\n",
       "    <tr style=\"text-align: right;\">\n",
       "      <th></th>\n",
       "      <th>language</th>\n",
       "      <th>repo</th>\n",
       "      <th>original</th>\n",
       "      <th>clean</th>\n",
       "      <th>stemmed</th>\n",
       "      <th>lemmatized</th>\n",
       "    </tr>\n",
       "  </thead>\n",
       "  <tbody>\n",
       "    <tr>\n",
       "      <th>15</th>\n",
       "      <td>C#</td>\n",
       "      <td>PowerShell/PowerShell</td>\n",
       "      <td># ![logo][] PowerShell\\n\\nWelcome to the Power...</td>\n",
       "      <td>logo powershell welcome powershell github comm...</td>\n",
       "      <td>logo powershel welcom powershel github commun ...</td>\n",
       "      <td>logo powershell welcome powershell github comm...</td>\n",
       "    </tr>\n",
       "    <tr>\n",
       "      <th>7</th>\n",
       "      <td>C</td>\n",
       "      <td>ventoy/Ventoy</td>\n",
       "      <td>&lt;h1 align=\"center\"&gt;\\n  &lt;a href=https://www.ven...</td>\n",
       "      <td>h1 aligncenter hrefhttpswwwventoynetventoya h1...</td>\n",
       "      <td>h1 aligncent hrefhttpswwwventoynetventoya h1 p...</td>\n",
       "      <td>h1 aligncenter hrefhttpswwwventoynetventoya h1...</td>\n",
       "    </tr>\n",
       "    <tr>\n",
       "      <th>26</th>\n",
       "      <td>Python</td>\n",
       "      <td>kivy/kivy</td>\n",
       "      <td>Kivy\\n====\\n\\n&lt;img align=\"right\" height=\"256\" ...</td>\n",
       "      <td>kivy img alignright height256 srchttpsrawgithu...</td>\n",
       "      <td>kivi img alignright height256 srchttpsrawgithu...</td>\n",
       "      <td>kivy img alignright height256 srchttpsrawgithu...</td>\n",
       "    </tr>\n",
       "    <tr>\n",
       "      <th>10</th>\n",
       "      <td>TypeScript</td>\n",
       "      <td>vercel/hyper</td>\n",
       "      <td>![](https://assets.vercel.com/image/upload/v15...</td>\n",
       "      <td>httpsassetsvercelcomimageuploadv1549723846repo...</td>\n",
       "      <td>httpsassetsvercelcomimageuploadv1549723846repo...</td>\n",
       "      <td>httpsassetsvercelcomimageuploadv1549723846repo...</td>\n",
       "    </tr>\n",
       "    <tr>\n",
       "      <th>20</th>\n",
       "      <td>Python</td>\n",
       "      <td>0xAX/linux-insides</td>\n",
       "      <td>linux-insides\\n===============\\n\\nA book-in-pr...</td>\n",
       "      <td>linuxinsides bookinprogress linux kernel insid...</td>\n",
       "      <td>linuxinsid bookinprogress linux kernel insid g...</td>\n",
       "      <td>linuxinsides bookinprogress linux kernel insid...</td>\n",
       "    </tr>\n",
       "  </tbody>\n",
       "</table>\n",
       "</div>"
      ],
      "text/plain": [
       "      language                   repo  \\\n",
       "15          C#  PowerShell/PowerShell   \n",
       "7            C          ventoy/Ventoy   \n",
       "26      Python              kivy/kivy   \n",
       "10  TypeScript           vercel/hyper   \n",
       "20      Python     0xAX/linux-insides   \n",
       "\n",
       "                                             original  \\\n",
       "15  # ![logo][] PowerShell\\n\\nWelcome to the Power...   \n",
       "7   <h1 align=\"center\">\\n  <a href=https://www.ven...   \n",
       "26  Kivy\\n====\\n\\n<img align=\"right\" height=\"256\" ...   \n",
       "10  ![](https://assets.vercel.com/image/upload/v15...   \n",
       "20  linux-insides\\n===============\\n\\nA book-in-pr...   \n",
       "\n",
       "                                                clean  \\\n",
       "15  logo powershell welcome powershell github comm...   \n",
       "7   h1 aligncenter hrefhttpswwwventoynetventoya h1...   \n",
       "26  kivy img alignright height256 srchttpsrawgithu...   \n",
       "10  httpsassetsvercelcomimageuploadv1549723846repo...   \n",
       "20  linuxinsides bookinprogress linux kernel insid...   \n",
       "\n",
       "                                              stemmed  \\\n",
       "15  logo powershel welcom powershel github commun ...   \n",
       "7   h1 aligncent hrefhttpswwwventoynetventoya h1 p...   \n",
       "26  kivi img alignright height256 srchttpsrawgithu...   \n",
       "10  httpsassetsvercelcomimageuploadv1549723846repo...   \n",
       "20  linuxinsid bookinprogress linux kernel insid g...   \n",
       "\n",
       "                                           lemmatized  \n",
       "15  logo powershell welcome powershell github comm...  \n",
       "7   h1 aligncenter hrefhttpswwwventoynetventoya h1...  \n",
       "26  kivy img alignright height256 srchttpsrawgithu...  \n",
       "10  httpsassetsvercelcomimageuploadv1549723846repo...  \n",
       "20  linuxinsides bookinprogress linux kernel insid...  "
      ]
     },
     "execution_count": 38,
     "metadata": {},
     "output_type": "execute_result"
    }
   ],
   "source": [
    "train.head()"
   ]
  },
  {
   "cell_type": "code",
   "execution_count": 48,
   "id": "00be6745",
   "metadata": {},
   "outputs": [
    {
     "data": {
      "text/html": [
       "<div>\n",
       "<style scoped>\n",
       "    .dataframe tbody tr th:only-of-type {\n",
       "        vertical-align: middle;\n",
       "    }\n",
       "\n",
       "    .dataframe tbody tr th {\n",
       "        vertical-align: top;\n",
       "    }\n",
       "\n",
       "    .dataframe thead th {\n",
       "        text-align: right;\n",
       "    }\n",
       "</style>\n",
       "<table border=\"1\" class=\"dataframe\">\n",
       "  <thead>\n",
       "    <tr style=\"text-align: right;\">\n",
       "      <th></th>\n",
       "      <th>language</th>\n",
       "      <th>word_count</th>\n",
       "      <th>percentage</th>\n",
       "    </tr>\n",
       "  </thead>\n",
       "  <tbody>\n",
       "    <tr>\n",
       "      <th>0</th>\n",
       "      <td>JavaScript</td>\n",
       "      <td>3517</td>\n",
       "      <td>48.12%</td>\n",
       "    </tr>\n",
       "    <tr>\n",
       "      <th>1</th>\n",
       "      <td>C</td>\n",
       "      <td>938</td>\n",
       "      <td>12.83%</td>\n",
       "    </tr>\n",
       "    <tr>\n",
       "      <th>2</th>\n",
       "      <td>C#</td>\n",
       "      <td>725</td>\n",
       "      <td>9.92%</td>\n",
       "    </tr>\n",
       "    <tr>\n",
       "      <th>3</th>\n",
       "      <td>TypeScript</td>\n",
       "      <td>630</td>\n",
       "      <td>8.62%</td>\n",
       "    </tr>\n",
       "    <tr>\n",
       "      <th>4</th>\n",
       "      <td>Go</td>\n",
       "      <td>545</td>\n",
       "      <td>7.46%</td>\n",
       "    </tr>\n",
       "    <tr>\n",
       "      <th>5</th>\n",
       "      <td>Python</td>\n",
       "      <td>541</td>\n",
       "      <td>7.40%</td>\n",
       "    </tr>\n",
       "    <tr>\n",
       "      <th>6</th>\n",
       "      <td>Rust</td>\n",
       "      <td>413</td>\n",
       "      <td>5.65%</td>\n",
       "    </tr>\n",
       "  </tbody>\n",
       "</table>\n",
       "</div>"
      ],
      "text/plain": [
       "     language  word_count percentage\n",
       "0  JavaScript        3517     48.12%\n",
       "1           C         938     12.83%\n",
       "2          C#         725      9.92%\n",
       "3  TypeScript         630      8.62%\n",
       "4          Go         545      7.46%\n",
       "5      Python         541      7.40%\n",
       "6        Rust         413      5.65%"
      ]
     },
     "execution_count": 48,
     "metadata": {},
     "output_type": "execute_result"
    }
   ],
   "source": [
    "def language_breakdown(df,column):\n",
    "    # Group by \"language\" column and sum the word count for each group\n",
    "    word_count_by_language = df.groupby(\"language\")[column].apply(lambda x: x.str.split().str.len().sum()).reset_index(name=\"word_count\")\n",
    "\n",
    "    # Calculate the total word count for all languages\n",
    "    total_word_count = word_count_by_language[\"word_count\"].sum()\n",
    "\n",
    "    # Calculate the proportion of total words in each language\n",
    "    word_count_by_language[\"percentage\"] = word_count_by_language[\"word_count\"] / total_word_count\n",
    "\n",
    "    # format percentage column\n",
    "    word_count_by_language[\"percentage\"] = word_count_by_language[\"percentage\"].map(\"{:.2%}\".format)\n",
    "    \n",
    "    # sort and fix index\n",
    "    word_count_by_language = word_count_by_language.sort_values(by='word_count',ascending=False).reset_index(drop=Tr)\n",
    "    \n",
    "    return word_count_by_language\n",
    "\n",
    "language_breakdown(train,'lemmatized')"
   ]
  },
  {
   "cell_type": "markdown",
   "id": "01a1787d",
   "metadata": {},
   "source": [
    "# Next Steps"
   ]
  },
  {
   "cell_type": "markdown",
   "id": "c3584546",
   "metadata": {},
   "source": [
    "1. After preprocessing,  create a TF-IDF matrix from text data.  scikit-learn's TfidfVectorizer class to do this. This will transform text data into a sparse matrix where each row represents a document and each column represents a unique word in entire corpus of documents. The values in this matrix represent the importance of each word in each document, based on the TF-IDF measure.\n",
    "\n",
    "2.  then use this TF-IDF matrix as input to a machine learning model.  split dataset into training and testing sets, and then fit a machine learning model, such as a logistic regression or a random forest classifier, on the training set.  fit() method of the classifier to train the model.\n",
    "\n",
    "3. After training the model,  evaluate its performance on the testing set.  predict() method of the classifier to predict the programming language for each document in the testing set, and then compare these predictions to the actual programming language labels in the testing set to calculate various performance metrics, such as accuracy, precision, recall, and F1-score.\n",
    "\n",
    "4. use trained model to predict the programming language for new, unseen documents.  preprocess the text data in the same way as before, and then transform it into a TF-IDF matrix using the same TfidfVectorizer object that you fit on the training set.  then use the predict() method of the trained classifier to predict the programming language for each new document based on the TF-IDF matrix."
   ]
  },
  {
   "cell_type": "code",
   "execution_count": null,
   "id": "50ba1d77",
   "metadata": {},
   "outputs": [],
   "source": []
  }
 ],
 "metadata": {
  "kernelspec": {
   "display_name": "Python 3 (ipykernel)",
   "language": "python",
   "name": "python3"
  },
  "language_info": {
   "codemirror_mode": {
    "name": "ipython",
    "version": 3
   },
   "file_extension": ".py",
   "mimetype": "text/x-python",
   "name": "python",
   "nbconvert_exporter": "python",
   "pygments_lexer": "ipython3",
   "version": "3.9.15"
  }
 },
 "nbformat": 4,
 "nbformat_minor": 5
}
