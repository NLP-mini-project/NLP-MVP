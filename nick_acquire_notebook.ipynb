{
 "cells": [
  {
   "cell_type": "code",
   "execution_count": 1,
   "id": "b0ee830a",
   "metadata": {},
   "outputs": [],
   "source": [
    "import pandas as pd\n",
    "import json\n",
    "import os\n",
    "\n",
    "from bs4 import BeautifulSoup\n",
    "import requests \n",
    "\n",
    "from typing import Dict, List, Optional, Union, cast\n",
    "\n",
    "from env import github_token, github_username\n",
    "import acquire as a\n",
    "import time"
   ]
  },
  {
   "cell_type": "code",
   "execution_count": 13,
   "id": "6bd892c5",
   "metadata": {},
   "outputs": [],
   "source": [
    "REPOS = pd.read_csv('repos.csv')"
   ]
  },
  {
   "cell_type": "code",
   "execution_count": 19,
   "id": "6a64ae2a",
   "metadata": {},
   "outputs": [
    {
     "data": {
      "text/html": [
       "<div>\n",
       "<style scoped>\n",
       "    .dataframe tbody tr th:only-of-type {\n",
       "        vertical-align: middle;\n",
       "    }\n",
       "\n",
       "    .dataframe tbody tr th {\n",
       "        vertical-align: top;\n",
       "    }\n",
       "\n",
       "    .dataframe thead th {\n",
       "        text-align: right;\n",
       "    }\n",
       "</style>\n",
       "<table border=\"1\" class=\"dataframe\">\n",
       "  <thead>\n",
       "    <tr style=\"text-align: right;\">\n",
       "      <th></th>\n",
       "      <th>repo_names</th>\n",
       "    </tr>\n",
       "  </thead>\n",
       "  <tbody>\n",
       "    <tr>\n",
       "      <th>29</th>\n",
       "      <td>google/exposure-notifications-server</td>\n",
       "    </tr>\n",
       "    <tr>\n",
       "      <th>62</th>\n",
       "      <td>google/exposure-notifications-verification-server</td>\n",
       "    </tr>\n",
       "    <tr>\n",
       "      <th>66</th>\n",
       "      <td>TheEconomist/covid-19-excess-deaths-tracker</td>\n",
       "    </tr>\n",
       "    <tr>\n",
       "      <th>69</th>\n",
       "      <td>wobsoriano/covid3d</td>\n",
       "    </tr>\n",
       "    <tr>\n",
       "      <th>83</th>\n",
       "      <td>elcronos/COVID-19</td>\n",
       "    </tr>\n",
       "  </tbody>\n",
       "</table>\n",
       "</div>"
      ],
      "text/plain": [
       "                                           repo_names\n",
       "29               google/exposure-notifications-server\n",
       "62  google/exposure-notifications-verification-server\n",
       "66        TheEconomist/covid-19-excess-deaths-tracker\n",
       "69                                 wobsoriano/covid3d\n",
       "83                                  elcronos/COVID-19"
      ]
     },
     "execution_count": 19,
     "metadata": {},
     "output_type": "execute_result"
    }
   ],
   "source": [
    "REPOS[REPOS['repo_names'].str.contains('no')]"
   ]
  },
  {
   "cell_type": "code",
   "execution_count": 20,
   "id": "85cd3fb5",
   "metadata": {},
   "outputs": [],
   "source": [
    "REPOS = REPOS['repo_names'].tolist()"
   ]
  },
  {
   "cell_type": "code",
   "execution_count": 23,
   "id": "da8c2906",
   "metadata": {},
   "outputs": [],
   "source": [
    "added = ['Unicorndy/covid19_dashboard',\n",
    " 'twiecki/covid19',\n",
    " 'phildini/stayinghomeclub',\n",
    " 'globalcitizen/2019-wuhan-coronavirus-data',\n",
    " 'greenelab/covid19-review',\n",
    " 'covid19-forecast-hub-europe/covid19-forecast-hub-europe',\n",
    " 'minhealthnz/nz-covid-data',\n",
    " 'closedloop-ai/cv19index',\n",
    " 'jannisborn/covid19_ultrasound',\n",
    " 'tomwhite/covid-19-uk-data',\n",
    " 'elcronos/COVID-19',\n",
    " 'muhammedtalo/COVID-19',\n",
    " 'trekhleb/covid-19',\n",
    " 'tirthajyoti/Covid-19-analysis',\n",
    " 'devarthurribeiro/covid19-brazil-api',\n",
    " 'dswh/voila-covid-19-dashboard',\n",
    " 'nihp-public/COVID-19-app-iOS-BETA',\n",
    " 'chschoenenberger/covid19_dashboard',\n",
    " 'midudev/covid-19-spread-simulator',\n",
    " 'BDI-pathogens/OpenABM-Covid19',\n",
    " 'wareneutron/covid19-tracker-cli',\n",
    " 'hostolab/covidliste',\n",
    " 'imtsuki/bupt-ncov-report-action',\n",
    " 'heremaps/here-covid-19-tracker',\n",
    " 'Institut-Zdravotnych-Analyz/covid19-data',\n",
    " 'microsoft/Bing-COVID-19-Data',\n",
    " 'Priesemann-Group/covid19_inference_forecast',\n",
    " 'alexgand/springer_free_books',\n",
    " 'etalab/covid19-dashboard',\n",
    " 'soroushchehresa/awesome-coronavirus',\n",
    " 'ieee8023/covid-chestxray-dataset',\n",
    " 'covid19india/covid19india',\n",
    " 'Priesemann-Group/covid19_inference',\n",
    " '3778/COVID-19',\n",
    " 'nihp-public/covid19-app-system-public',\n",
    " 'PubInv/covid19-vent-list',\n",
    " 'Kamaropoulos/COVID19Py',\n",
    " 'leafcoder/django-covid19',\n",
    " 'lestweforget/COVID-19-Timeline',\n",
    " 'VictimOfMaths/COVID-19',\n",
    " 'nthopinion/covid19',\n",
    " 'contactmodel/COVID19-Japan-Reff',\n",
    " 'sambreen27/covid19',\n",
    " 'datacamp/COVID-19-EDA-tutorial',\n",
    " 'yunwei37/COVID-19-NLP-vis',\n",
    " 'Rank23/COVID19',\n",
    " 'virtual-biohackathons/covid-19-bh20',\n",
    " 'localeai/covid19-live-visualization','eAzure/COVID-19-Data',\n",
    " 'rlindskog/covid19-graphql',\n",
    " 'rozierguillaume/covid-19',\n",
    " 'simonblowsnow/COVID-19-Visualization',\n",
    " 'oscarhealth/covid19-testing',\n",
    " 'lopezbec/COVID19_Tweets_Dataset',\n",
    " 'covid19india/CovidCrowd',\n",
    " 'covid-19-net/covid-19-community',\n",
    " 'lisphilar/covid19-sir',\n",
    " 'CDCgov/covid19healthbot',\n",
    " 'covidcaremap/covid19-healthsystemcapacity',\n",
    " 'minvws/nl-covid19-notification-app-website',\n",
    " 'celiavelmar/open-covid19-test',\n",
    " 'wal33d006/novel_covid_19',\n",
    " 'KeithGalli/generate-analytics-report',\n",
    " 'google-research/open-covid-19-data',\n",
    " 'PatilShreyas/Covid19-Notifier-IN',\n",
    " 'peixebabel/COVID-19',\n",
    " 'Altevir/xamarinforms-covid19',\n",
    " 'cojocchen/covid19_critically_ill',\n",
    " 'OssamaRafique/Covid-19-Statistics-Dashboard-Angular-9',\n",
    " 'CodeExplainedRepo/COVID-19_TRACKER_HTML_CSS_JAVASCRIPT',\n",
    " 'covid19-data/covid19-data',\n",
    " 'MickeysClubhouse/COVID-19-rumor-dataset',\n",
    " 'Glacier-Ice/Covid-19-data-science',\n",
    " 'bhattbhavesh91/cowin-vaccination-slot-availability',\n",
    " 'skyerhxx/COVID-19_Tracking',\n",
    " 'jihoo-kim/Data-Science-for-COVID-19',\n",
    " 'aboullaite/Covid19-MA',\n",
    " 'minvws/nl-covid19-notification-app-design',\n",
    " 'joanby/covid19',\n",
    " 'covid19cz/erouska-android',\n",
    " 'whhsky/COVID-19-KSH',\n",
    " 'Laeyoung/COVID-19-API',\n",
    " 'code4sabae/covid19',\n",
    " 'pennsignals/chime',\n",
    " 'CITF-Malaysia/citf-public',\n",
    " 'covid19cubadata/covid19cubadata.github.io',\n",
    " 'frankkramer-lab/covid19.MIScnn',\n",
    " 'jgehrcke/covid-19-germany-gae',\n",
    " 'kawalcovid19/wargabantuwarga.com',\n",
    " 'helpwithcovid/covid-volunteers',\n",
    " 'HarshdeepKahlon/hiring2020',\n",
    " 'nesk/covid-19-certificate',\n",
    " 'M-Media-Group/Covid-19-API',\n",
    " 'hifiaz/covid19',\n",
    " 'covid-19-au/covid-19-au.github.io',\n",
    " 'microsoft/COVID-19-Widget',\n",
    " 'MohGovIL/hamagen-react-native',\n",
    " 'neherlab/covid19_scenarios_data',\n",
    " 'umanghome/covid19-twitter.in',\n",
    " 'covidatlas/coronadatascraper',\n",
    " 'mrc-ide/COVID19_CFR_submission',\n",
    " 'imdevskp/covid-19-india-data',\n",
    " 'ryo-ma/covid19-japan-web-api',\n",
    " 'jorgeperezrojas/covid19-data',\n",
    " 'publichealthengland/coronavirus-dashboard',\n",
    " 'sfu-db/covid19-datasets',\n",
    " 'arpanmangal/CovidAID',\n",
    " 'descarteslabs/DL-COVID-19',\n",
    " 'DataHerb/dataset-covid-19',\n",
    " 'Coders-Of-XDA-OT/covid19-status-android',\n",
    " 'USCreditCardGuide/airlines-to-china-covid-19',\n",
    " 'ThisIsIsaac/Data-Science-for-COVID-19',\n",
    " 'Reynadi531/api-covid19-indonesia-v2',\n",
    " 'InstituteforDiseaseModeling/covasim',\n",
    " 'Anthonyeef/covid-19-bitbar-plugin',\n",
    " 'geohot/corona',\n",
    " 'idandrd/israel-covid19-data',\n",
    " 'HariKulhari06/Covid-19-Tracker',\n",
    " 'maykbrito/covid-19',\n",
    " 'cagov/covid19',\n",
    " 'rpandey1234/Covid19Tracker',\n",
    " 'midudev/covid-vacuna',\n",
    " 'sassoftware/covid-19-sas',\n",
    " 'JieYingWu/COVID-19_US_County-level_Summaries',\n",
    " 'kiang/covid19',\n",
    " 'HAIRLAB/Pre_Surv_COVID_19',\n",
    " 'vinitshahdeo/covid19api',\n",
    " 'rphl/corona-widget',\n",
    " 'bradtraversy/vue-covid-tracker']"
   ]
  },
  {
   "cell_type": "code",
   "execution_count": 25,
   "id": "f1ea7de8",
   "metadata": {},
   "outputs": [
    {
     "data": {
      "text/plain": [
       "129"
      ]
     },
     "execution_count": 25,
     "metadata": {},
     "output_type": "execute_result"
    }
   ],
   "source": [
    "len(added)"
   ]
  },
  {
   "cell_type": "code",
   "execution_count": 27,
   "id": "63a3c843",
   "metadata": {},
   "outputs": [],
   "source": [
    "REPOS.extend(added)"
   ]
  },
  {
   "cell_type": "code",
   "execution_count": 29,
   "id": "2eb49b68",
   "metadata": {},
   "outputs": [
    {
     "data": {
      "text/plain": [
       "219"
      ]
     },
     "execution_count": 29,
     "metadata": {},
     "output_type": "execute_result"
    }
   ],
   "source": [
    "len(REPOS)"
   ]
  },
  {
   "cell_type": "code",
   "execution_count": 30,
   "id": "a1f3a849",
   "metadata": {},
   "outputs": [
    {
     "name": "stdout",
     "output_type": "stream",
     "text": [
      "There are duplicates in the list\n"
     ]
    }
   ],
   "source": [
    "REPOS\n",
    "\n",
    "if len(REPOS) != len(set(REPOS)):\n",
    "    print(\"There are duplicates in the list\")\n",
    "else:\n",
    "    print(\"There are no duplicates in the list\")\n"
   ]
  },
  {
   "cell_type": "code",
   "execution_count": 31,
   "id": "a0dfdb58",
   "metadata": {},
   "outputs": [
    {
     "data": {
      "text/plain": [
       "219"
      ]
     },
     "execution_count": 31,
     "metadata": {},
     "output_type": "execute_result"
    }
   ],
   "source": [
    "len(REPOS)"
   ]
  },
  {
   "cell_type": "code",
   "execution_count": 34,
   "id": "a8fff999",
   "metadata": {},
   "outputs": [],
   "source": [
    "REPOS = set(REPOS)"
   ]
  },
  {
   "cell_type": "code",
   "execution_count": 35,
   "id": "10bb22ec",
   "metadata": {},
   "outputs": [
    {
     "data": {
      "text/plain": [
       "203"
      ]
     },
     "execution_count": 35,
     "metadata": {},
     "output_type": "execute_result"
    }
   ],
   "source": [
    "len(REPOS)"
   ]
  },
  {
   "cell_type": "code",
   "execution_count": 36,
   "id": "a4a85562",
   "metadata": {},
   "outputs": [],
   "source": [
    "headers = {\"Authorization\": f\"token {github_token}\", \"User-Agent\": github_username}\n",
    "\n",
    "if headers[\"Authorization\"] == \"token \" or headers[\"User-Agent\"] == \"\":\n",
    "    raise Exception(\n",
    "        \"You need to follow the instructions marked TODO in this script before trying to use it\"\n",
    "    )\n",
    "\n",
    "\n",
    "def github_api_request(url: str) -> Union[List, Dict]:\n",
    "    response = requests.get(url, headers=headers)\n",
    "    response_data = response.json()\n",
    "    if response.status_code != 200:\n",
    "        raise Exception(\n",
    "            f\"Error response from github api! status code: {response.status_code}, \"\n",
    "            f\"response: {json.dumps(response_data)}\"\n",
    "        )\n",
    "    return response_data\n",
    "\n",
    "\n",
    "def get_repo_language(repo: str) -> str:\n",
    "    url = f\"https://api.github.com/repos/{repo}\"\n",
    "    repo_info = github_api_request(url)\n",
    "    if type(repo_info) is dict:\n",
    "        repo_info = cast(Dict, repo_info)\n",
    "        if \"language\" not in repo_info:\n",
    "            raise Exception(\n",
    "                \"'language' key not round in response\\n{}\".format(json.dumps(repo_info))\n",
    "            )\n",
    "        return repo_info[\"language\"]\n",
    "    raise Exception(\n",
    "        f\"Expecting a dictionary response from {url}, instead got {json.dumps(repo_info)}\"\n",
    "    )\n",
    "\n",
    "\n",
    "def get_repo_contents(repo: str) -> List[Dict[str, str]]:\n",
    "    url = f\"https://api.github.com/repos/{repo}/contents/\"\n",
    "    contents = github_api_request(url)\n",
    "    if type(contents) is list:\n",
    "        contents = cast(List, contents)\n",
    "        return contents\n",
    "    raise Exception(\n",
    "        f\"Expecting a list response from {url}, instead got {json.dumps(contents)}\"\n",
    "    )\n",
    "\n",
    "def get_readme_download_url(files: List[Dict[str, str]]) -> str:\n",
    "    \"\"\"\n",
    "    Takes in a response from the github api that lists the files in a repo and\n",
    "    returns the url that can be used to download the repo's README file.\n",
    "    \"\"\"\n",
    "    for file in files:\n",
    "        if file[\"name\"].lower().startswith(\"readme\"):\n",
    "            return file[\"download_url\"]\n",
    "    raise Exception(\"README file not found in repository\")\n",
    "\n",
    "def process_repo(repo: str) -> Dict[str, str]:\n",
    "    \"\"\"\n",
    "    Takes a repo name like \"gocodeup/codeup-setup-script\" and returns a\n",
    "    dictionary with the language of the repo and the readme contents.\n",
    "    \"\"\"\n",
    "    contents = get_repo_contents(repo)\n",
    "    try:\n",
    "        readme_download_url = get_readme_download_url(contents)\n",
    "        readme_contents = requests.get(readme_download_url).text\n",
    "    except Exception:\n",
    "        readme_contents = \"\"\n",
    "    return {\n",
    "        \"repo\": repo,\n",
    "        \"language\": get_repo_language(repo),\n",
    "        \"readme_contents\": readme_contents,\n",
    "    }\n",
    "\n",
    "def scrape_github_data() -> List[Dict[str, str]]:\n",
    "    \"\"\"\n",
    "    Loop through all of the repos and process them. Returns the processed data.\n",
    "    \"\"\"\n",
    "    return [process_repo(repo) for repo in REPOS]\n",
    "\n",
    "\n",
    "if __name__ == \"__main__\":\n",
    "    data = scrape_github_data()\n",
    "    json.dump(data, open(\"data.json\", \"w\"), indent=1)\n"
   ]
  }
 ],
 "metadata": {
  "kernelspec": {
   "display_name": "Python 3 (ipykernel)",
   "language": "python",
   "name": "python3"
  },
  "language_info": {
   "codemirror_mode": {
    "name": "ipython",
    "version": 3
   },
   "file_extension": ".py",
   "mimetype": "text/x-python",
   "name": "python",
   "nbconvert_exporter": "python",
   "pygments_lexer": "ipython3",
   "version": "3.9.15"
  }
 },
 "nbformat": 4,
 "nbformat_minor": 5
}
