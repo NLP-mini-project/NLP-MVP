{
 "cells": [
  {
   "cell_type": "markdown",
   "id": "38baab48",
   "metadata": {},
   "source": [
    "# Instructions"
   ]
  },
  {
   "cell_type": "markdown",
   "id": "ba2b10f1",
   "metadata": {},
   "source": [
    "### Acquire:\n",
    "- Decide on a list of GitHub repositories to scrape. You can use the links provided in the project guidance, or you can generate a list programmatically using web scraping techniques.\n",
    "- Use a script to scrape the README files for each repository and store the data in a CSV or JSON file. Make sure to include the programming language of each repository as a label.\n",
    "- Document where your data comes from, including the date of acquisition."
   ]
  },
  {
   "cell_type": "markdown",
   "id": "c8451cab",
   "metadata": {},
   "source": [
    "### Prepare:\n",
    "- Load the data into a Pandas DataFrame.\n",
    "- Explore and clean the data as needed. This might include removing duplicates, handling missing data, and removing stop words.\n",
    "- Split the data into training and testing sets."
   ]
  },
  {
   "cell_type": "markdown",
   "id": "d1e6a174",
   "metadata": {},
   "source": [
    "### Explore:\n",
    "- Explore and visualize the natural language data that you have acquired. For example, you could:\n",
    "- Count the most common words in READMEs.\n",
    "- Visualize the distribution of README lengths by programming language.\n",
    "- Explore the number of unique words used by different programming languages.\n",
    "- Identify any words that uniquely identify a programming language."
   ]
  },
  {
   "cell_type": "markdown",
   "id": "0133f4b3",
   "metadata": {},
   "source": [
    "### Model:\n",
    "- Transform the text of the README files into a form that can be used in a machine learning model. This might involve using techniques like bag-of-words, TF-IDF, or word embeddings.\n",
    "- Try fitting several different models, such as logistic regression, decision trees, or random forests.\n",
    "- Evaluate the performance of each model using metrics like accuracy, precision, and recall.\n",
    "- Build a function that takes in the text of a README file and tries to predict the programming language.\n",
    "- Consider narrowing down the number of unique values in your target variable if you have many different programming languages. For example, you could focus on the top 3 languages and label everything else as \"Other\".\n"
   ]
  },
  {
   "cell_type": "markdown",
   "id": "ad5d3fee",
   "metadata": {},
   "source": [
    "### Deliverables:\n",
    "- Create a well-documented Jupyter notebook that contains your analysis.\n",
    "- Create a README file that describes your project and includes instructions on how to run it.\n",
    "- Create 2-5 Google slides suitable for a general audience that summarize your findings in exploration and the results of your modeling. Include well-labeled visualizations in your slides.\n",
    "- Link your Google slide deck in the README of your repository.\n",
    "- I hope this helps you get started with your project! Good luck!"
   ]
  },
  {
   "cell_type": "code",
   "execution_count": null,
   "id": "17821dff",
   "metadata": {},
   "outputs": [],
   "source": []
  }
 ],
 "metadata": {
  "kernelspec": {
   "display_name": "Python 3 (ipykernel)",
   "language": "python",
   "name": "python3"
  },
  "language_info": {
   "codemirror_mode": {
    "name": "ipython",
    "version": 3
   },
   "file_extension": ".py",
   "mimetype": "text/x-python",
   "name": "python",
   "nbconvert_exporter": "python",
   "pygments_lexer": "ipython3",
   "version": "3.9.15"
  }
 },
 "nbformat": 4,
 "nbformat_minor": 5
}
